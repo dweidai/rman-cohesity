{
 "cells": [
  {
   "cell_type": "code",
   "execution_count": 1,
   "metadata": {},
   "outputs": [],
   "source": [
    "def show_usage():\n",
    "    print(\"usage: python restore-nfs-mount.py -f <vip file> -v <view> -m <mount>\")\n",
    "    print(\" -f : file that has vip list\")\n",
    "    print(\" -v : Cohesity view\")\n",
    "    print(\" -m : mount-prefix (like /coh/ora)\")"
   ]
  },
  {
   "cell_type": "code",
   "execution_count": 2,
   "metadata": {},
   "outputs": [],
   "source": [
    "import re\n",
    "import os\n",
    "import sys\n",
    "import argparse\n",
    "import subprocess\n",
    "from subprocess import call"
   ]
  },
  {
   "cell_type": "code",
   "execution_count": 4,
   "metadata": {},
   "outputs": [
    {
     "name": "stderr",
     "output_type": "stream",
     "text": [
      "usage: ipykernel_launcher.py [-h] -f VIPFILE -v VIEW -m MOUNT\n",
      "ipykernel_launcher.py: error: the following arguments are required: -v/--view, -m/--mount\n"
     ]
    },
    {
     "ename": "SystemExit",
     "evalue": "2",
     "output_type": "error",
     "traceback": [
      "An exception has occurred, use %tb to see the full traceback.\n",
      "\u001b[0;31mSystemExit\u001b[0m\u001b[0;31m:\u001b[0m 2\n"
     ]
    }
   ],
   "source": [
    "argv = sys.argv[1:]\n",
    "argv = [i.lower() for i in argv]\n",
    "if '--help' in argv or 'help' in argv or '-help' in argv:\n",
    "    show_usage()\n",
    "    print(\"exit\")\n",
    "    exit(0)\n",
    "parser = argparse.ArgumentParser(description = \"Parser for nfs-mount\", conflict_handler='resolve')\n",
    "\n",
    "parser.add_argument(\"-f\", \"--vipfile\", help = \"file that has vip list\", \n",
    "                    required = True, default = \"\")\n",
    "parser.add_argument(\"-v\", \"--view\", help = \"Cohesity view\", \n",
    "                    required = True, default = \"\")\n",
    "parser.add_argument(\"-m\", \"--mount\", help = \"mount-prefix (like /mnt/ora)\",\n",
    "                    required = True, default = \"\")\n",
    "args = parser.parse_args(argv)\n",
    "if (os.path.exists(args.vipfile)):\n",
    "    print(\"file {} provided exist, script continue\".format(args.vipfile))\n",
    "else:\n",
    "    print(\"file {} provided does not exist\".format(args.vipfile))\n",
    "i = 1\n",
    "vipfile = open(args.vipfile, \"r\")\n",
    "Lines = vipfile.readlines() \n",
    "for line in Lines:\n",
    "    if (os.path.isdir(\"{0}{1}\".format(mount, i)) == False):\n",
    "        print(\"Directory {0}{1} does not exist, create it\".format(mount, i))\n",
    "        try:\n",
    "            os.system(\"mkdir -p {0}{1}\".format(mount, i))\n",
    "        except OSError:\n",
    "            print(\"Exception created with create new directory {0}{1}\".format(mount, i))\n",
    "            exit(1)\n",
    "    temp = \"\"\n",
    "    line = line.strip()\n",
    "    print(\"Check whether IP {} can be connected\".format(line))\n",
    "    \n",
    "    if (line != \"\" and len(line) != 0):\n",
    "        temp = \"/bin/ping {} -c 2\".format(line)\n",
    "        cmd = [\"/bin/ping\", \"{}\".format(line), \"-c\", \"2\"]\n",
    "        proc = subprocess.Popen(cmd, stdout=subprocess.PIPE, stderr=subprocess.PIPE)\n",
    "        o, e = proc.communicate()\n",
    "        output = o.decode('ascii')\n",
    "        if(len(e.decode('ascii'))== 0):\n",
    "            output = output.splitlines()\n",
    "        else:\n",
    "            print(e)\n",
    "            print(\"Error when running ps -ef\")\n",
    "            exit(2)\n",
    "        result = []\n",
    "        for x in output:\n",
    "            if re.search(\"error\", x):\n",
    "                result.append(x)\n",
    "        if (len(result)!=0):\n",
    "            print(\"error: IP {} can't be connected. It may not be a valid IP. Skip this IP\".format(line))\n",
    "        else:\n",
    "            print(\"IP {} can be connected\".format(line))\n",
    "            \n",
    "            if os.path.ismount(\"{0}{1}\".format(mount, i)):\n",
    "                print(\"{0}{1} is mount point, will unmount it\".format(mount, i))\n",
    "                os.unmount(\"{0}{1}\".format(mount, i))\n",
    "                os.mount() ##TODO"
   ]
  },
  {
   "cell_type": "code",
   "execution_count": null,
   "metadata": {},
   "outputs": [],
   "source": []
  }
 ],
 "metadata": {
  "kernelspec": {
   "display_name": "Python 3",
   "language": "python",
   "name": "python3"
  },
  "language_info": {
   "codemirror_mode": {
    "name": "ipython",
    "version": 3
   },
   "file_extension": ".py",
   "mimetype": "text/x-python",
   "name": "python",
   "nbconvert_exporter": "python",
   "pygments_lexer": "ipython3",
   "version": "3.6.9"
  }
 },
 "nbformat": 4,
 "nbformat_minor": 2
}
