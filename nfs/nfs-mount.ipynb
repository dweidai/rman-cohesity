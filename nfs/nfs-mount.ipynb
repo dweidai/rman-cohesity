{
 "cells": [
  {
   "cell_type": "code",
   "execution_count": 1,
   "metadata": {},
   "outputs": [],
   "source": [
    "def show_usage():\n",
    "    print(\"usage: python nfs-mount.py -f <vip file> -v <view> -m <mount>\")\n",
    "    print(\" -f : file that has vip list\")\n",
    "    print(\" -v : Cohesity view\")\n",
    "    print(\" -m : mount-prefix (like /coh/ora)\")"
   ]
  },
  {
   "cell_type": "code",
   "execution_count": 6,
   "metadata": {},
   "outputs": [],
   "source": [
    "import re\n",
    "import os\n",
    "import sys\n",
    "import argparse\n",
    "import subprocess\n",
    "from subprocess import call"
   ]
  },
  {
   "cell_type": "code",
   "execution_count": 10,
   "metadata": {},
   "outputs": [
    {
     "ename": "NameError",
     "evalue": "name 'sys' is not defined",
     "output_type": "error",
     "traceback": [
      "\u001b[0;31m---------------------------------------------------------------------------\u001b[0m",
      "\u001b[0;31mNameError\u001b[0m                                 Traceback (most recent call last)",
      "\u001b[0;32m<ipython-input-10-4338b50d8c4e>\u001b[0m in \u001b[0;36m<module>\u001b[0;34m\u001b[0m\n\u001b[0;32m----> 1\u001b[0;31m \u001b[0margv\u001b[0m \u001b[0;34m=\u001b[0m \u001b[0msys\u001b[0m\u001b[0;34m.\u001b[0m\u001b[0margv\u001b[0m\u001b[0;34m[\u001b[0m\u001b[0;36m1\u001b[0m\u001b[0;34m:\u001b[0m\u001b[0;34m]\u001b[0m\u001b[0;34m\u001b[0m\u001b[0;34m\u001b[0m\u001b[0m\n\u001b[0m\u001b[1;32m      2\u001b[0m \u001b[0margv\u001b[0m \u001b[0;34m=\u001b[0m \u001b[0;34m[\u001b[0m\u001b[0mi\u001b[0m\u001b[0;34m.\u001b[0m\u001b[0mlower\u001b[0m\u001b[0;34m(\u001b[0m\u001b[0;34m)\u001b[0m \u001b[0;32mfor\u001b[0m \u001b[0mi\u001b[0m \u001b[0;32min\u001b[0m \u001b[0margv\u001b[0m\u001b[0;34m]\u001b[0m\u001b[0;34m\u001b[0m\u001b[0;34m\u001b[0m\u001b[0m\n\u001b[1;32m      3\u001b[0m \u001b[0;32mif\u001b[0m \u001b[0;34m'--help'\u001b[0m \u001b[0;32min\u001b[0m \u001b[0margv\u001b[0m \u001b[0;32mor\u001b[0m \u001b[0;34m'help'\u001b[0m \u001b[0;32min\u001b[0m \u001b[0margv\u001b[0m \u001b[0;32mor\u001b[0m \u001b[0;34m'-help'\u001b[0m \u001b[0;32min\u001b[0m \u001b[0margv\u001b[0m\u001b[0;34m:\u001b[0m\u001b[0;34m\u001b[0m\u001b[0;34m\u001b[0m\u001b[0m\n\u001b[1;32m      4\u001b[0m     \u001b[0mshow_usage\u001b[0m\u001b[0;34m(\u001b[0m\u001b[0;34m)\u001b[0m\u001b[0;34m\u001b[0m\u001b[0;34m\u001b[0m\u001b[0m\n\u001b[1;32m      5\u001b[0m     \u001b[0mprint\u001b[0m\u001b[0;34m(\u001b[0m\u001b[0;34m\"exit\"\u001b[0m\u001b[0;34m)\u001b[0m\u001b[0;34m\u001b[0m\u001b[0;34m\u001b[0m\u001b[0m\n",
      "\u001b[0;31mNameError\u001b[0m: name 'sys' is not defined"
     ]
    }
   ],
   "source": [
    "argv = sys.argv[1:]\n",
    "argv = [i.lower() for i in argv]\n",
    "if '--help' in argv or 'help' in argv or '-help' in argv:\n",
    "    show_usage()\n",
    "    print(\"exit\")\n",
    "    exit(0)\n",
    "parser = argparse.ArgumentParser(description = \"Parser for nfs-mount\", conflict_handler='resolve')\n",
    "\n",
    "parser.add_argument(\"-f\", \"--vipfile\", help = \"file that has vip list\", \n",
    "                    required = True, default = \"\")\n",
    "parser.add_argument(\"-v\", \"--view\", help = \"Cohesity view\", \n",
    "                    required = True, default = \"\")\n",
    "parser.add_argument(\"-m\", \"--mount\", help = \"mount-prefix (like /mnt/ora)\",\n",
    "                    required = True, default = \"\")\n",
    "\n",
    "try:\n",
    "    args = parser.parse_args(argv)\n",
    "except argparse.ArgumentError:\n",
    "    show_usage()\n",
    "    \n",
    "if (os.path.exists(args.vipfile)):\n",
    "    print(\"file {} provided exist, script continue\".format(args.vipfile))\n",
    "else:\n",
    "    print(\"file {} provided does not exist\".format(args.vipfile))\n",
    "    \n",
    "i = 1\n",
    "vipfile = open(args.vipfile, \"r\")\n",
    "Lines = vipfile.readlines() \n",
    "for line in Lines:\n",
    "    if (os.path.isdir(\"{0}{1}\".format(mount, i)) == False):\n",
    "        print(\"Directory {0}{1} does not exist, create it\".format(mount, i))\n",
    "        try:\n",
    "            os.system(\"mkdir -p {0}{1}\".format(mount, i))\n",
    "        except OSError:\n",
    "            print(\"Exception created with create new directory {0}{1}\".format(mount, i))\n",
    "            exit(1)\n",
    "    temp = \"\"\n",
    "    line = line.strip()\n",
    "    print(\"Check whether IP {} can be connected\".format(line))\n",
    "    if (line != \"\" and len(line) != 0):\n",
    "        temp = \"/bin/ping {} -c 2\".format(line)\n",
    "        cmd = [\"/bin/ping\", \"{}\".format(line), \"-c\", \"2\"]\n",
    "        proc = subprocess.Popen(cmd, stdout=subprocess.PIPE, stderr=subprocess.PIPE)\n",
    "        o, e = proc.communicate()\n",
    "        output = o.decode('ascii')\n",
    "        if(len(e.decode('ascii'))== 0):\n",
    "            output = output.splitlines()\n",
    "        else:\n",
    "            print(e)\n",
    "            print(\"Error when running ps -ef\")\n",
    "            exit(2)\n",
    "        result = []\n",
    "        for x in output:\n",
    "            if re.search(\"error\", x):\n",
    "                result.append(x)\n",
    "        if (len(result)!=0):\n",
    "            print(\"error: IP {} can't be connected. It may not be a valid IP. Skip this IP\".format(line))\n",
    "        else:\n",
    "            print(\"IP {} can be connected\".format(line))\n",
    "            print(\"check whether the mount point is in /etc/fstab\")\n",
    "            mpreturn = []\n",
    "            preturn = []\n",
    "            ## mpreturn=`grep -i $ip /etc/fstab | grep -i $view`\n",
    "            file = open(\"/etc/fstab\", \"r\")\n",
    "            for x in file:\n",
    "                if re.search(line, x):\n",
    "                    preturn.append(x)\n",
    "            for x in preturn:\n",
    "                if re.search(\"{}\".format(view), x):\n",
    "                    mpreturn.append(x)\n",
    "            if(len(mpreturn) == 0):\n",
    "                print(\"{}{} is not in /etc/fstab, add it to /etc/fstab\".format(mount, i))\n",
    "                file = open(\"/etc/fstab\", \"a\")\n",
    "                file.write(\"{}:/{} {}{} nfs intr,hard,rsize=1048576,wsize=1048576,proto=tcp,vers=3 0 0\".format(line, view, mount, i))\n",
    "            else:\n",
    "                print(\"{}{} is already in /etc/fstab\".format(mount, i))\n",
    "                \n",
    "            if os.path.ismount(\"{0}{1}\".format(mount, i)):\n",
    "                print(\"{0}{1} is mount point\".format(mount, i))\n",
    "            else:\n",
    "                os.mount(\"{0}{1}\".format(mount, i))\n",
    "    i=i+1\n",
    "os.system(\"ls -ld {}1\".format(mount))\n",
    "print(\"Need to change the permission to Oracle if it is not set up yet\")\n"
   ]
  },
  {
   "cell_type": "code",
   "execution_count": null,
   "metadata": {},
   "outputs": [],
   "source": []
  }
 ],
 "metadata": {
  "kernelspec": {
   "display_name": "Python 3",
   "language": "python",
   "name": "python3"
  },
  "language_info": {
   "codemirror_mode": {
    "name": "ipython",
    "version": 3
   },
   "file_extension": ".py",
   "mimetype": "text/x-python",
   "name": "python",
   "nbconvert_exporter": "python",
   "pygments_lexer": "ipython3",
   "version": "3.6.9"
  }
 },
 "nbformat": 4,
 "nbformat_minor": 2
}
